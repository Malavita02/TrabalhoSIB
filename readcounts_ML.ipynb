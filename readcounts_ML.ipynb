{
 "cells": [
  {
   "cell_type": "markdown",
   "metadata": {},
   "source": [
    "# Exploração ML do readcounts \n",
    "É um dataset com a abundancia taxonomica"
   ]
  },
  {
   "cell_type": "code",
   "execution_count": 28,
   "metadata": {},
   "outputs": [],
   "source": [
    "import numpy as np\n",
    "import pandas as pd\n",
    "\n",
    "readcounts_train = pd.read_csv(\"train/readcounts_training.csv\")\n",
    "readcounts_test = pd.read_csv(\"test/readcounts_test.csv\")\n",
    "pheno_train = pd.read_csv(\"train/pheno_training.csv\")\n",
    "pheno_test = pd.read_csv(\"test/pheno_test.csv\")\n"
   ]
  },
  {
   "cell_type": "markdown",
   "metadata": {},
   "source": [
    "#### Pré-processamento de dados"
   ]
  },
  {
   "cell_type": "code",
   "execution_count": 37,
   "metadata": {},
   "outputs": [],
   "source": [
    "# get indexes of the rows without nan values\n",
    "inds_train = pheno_train.dropna().index\n",
    "inds_test = pheno_test.dropna().index\n",
    "\n",
    "# data structure organization - train\n",
    "pheno_train_y = pheno_train.PrevalentHFAIL[inds_train]\n",
    "readcounts_train_X = readcounts_train.iloc[:, 1:].T # tranpose dataset for compablility\n",
    "readcounts_train_X.columns = list(readcounts_train[\"Unnamed: 0\"]) # renaming columns for acessibility\n",
    "readcounts_train_X = readcounts_train_X.iloc[inds_train] # using only rows without nan\n",
    "\n",
    "# data structure organization - test\n",
    "pheno_test_y = pheno_test.PrevalentHFAIL[inds_test]\n",
    "readcounts_test_X = readcounts_test.iloc[:, 1:].T # tranpose dataset for compablility\n",
    "readcounts_test_X.columns = list(readcounts_test[\"Unnamed: 0\"]) # renaming columns for acessibility\n",
    "readcounts_test_X = readcounts_test_X.iloc[inds_test] # using only rows without nan"
   ]
  },
  {
   "cell_type": "markdown",
   "metadata": {},
   "source": [
    "## Medelos de ML\n",
    "#### Logistic Regression"
   ]
  },
  {
   "cell_type": "code",
   "execution_count": 38,
   "metadata": {},
   "outputs": [
    {
     "name": "stdout",
     "output_type": "stream",
     "text": [
      "PECC (accuracy): 0.9586167800453514\n"
     ]
    },
    {
     "name": "stderr",
     "output_type": "stream",
     "text": [
      "c:\\Users\\Tiago\\AppData\\Local\\Programs\\Python\\Python310\\lib\\site-packages\\sklearn\\svm\\_base.py:1225: ConvergenceWarning: Liblinear failed to converge, increase the number of iterations.\n",
      "  warnings.warn(\n"
     ]
    }
   ],
   "source": [
    "from sklearn import linear_model\n",
    "from sklearn.metrics import accuracy_score\n",
    "\n",
    "logistic = linear_model.LogisticRegression(C=1e5, solver = \"liblinear\", multi_class = \"auto\")\n",
    "logistic = logistic.fit(readcounts_train_X, pheno_train_y)\n",
    "logistic_prev = logistic.predict(readcounts_test_X)\n",
    "\n",
    "print(\"PECC (accuracy):\", accuracy_score(pheno_test_y, logistic_prev))"
   ]
  },
  {
   "cell_type": "markdown",
   "metadata": {},
   "source": [
    "#### Linear Regression"
   ]
  },
  {
   "cell_type": "code",
   "execution_count": 42,
   "metadata": {},
   "outputs": [
    {
     "name": "stdout",
     "output_type": "stream",
     "text": [
      "[ 0.87261827 -0.35912821  1.32509594 ...  1.25286809  0.0154085\n",
      "  0.28186538]\n",
      "Perc. acertos:  0.0\n",
      "Não funciona com boleans\n"
     ]
    }
   ],
   "source": [
    "from sklearn import linear_model\n",
    "from sklearn.model_selection import cross_val_score\n",
    "\n",
    "regr_model = linear_model.LinearRegression()\n",
    "regr_model = regr_model.fit(readcounts_train_X, pheno_train_y)\n",
    "regr_model_pred = regr_model.predict(readcounts_test_X)\n",
    "\n",
    "print(regr_model_pred)\n",
    "\n",
    "print(\"Perc. acertos: \", (regr_model_pred == pheno_test_y).sum()/len(regr_model_pred))\n",
    "print(\"Não funciona com boleans\")"
   ]
  },
  {
   "cell_type": "markdown",
   "metadata": {},
   "source": [
    "#### SVM's"
   ]
  },
  {
   "cell_type": "code",
   "execution_count": 43,
   "metadata": {},
   "outputs": [
    {
     "name": "stdout",
     "output_type": "stream",
     "text": [
      "PECC (accuracy): 0.9784580498866213\n"
     ]
    }
   ],
   "source": [
    "from sklearn import svm\n",
    "from sklearn.model_selection import cross_val_score\n",
    "SVM = svm.SVC(gamma=0.001, C=100.)\n",
    "SVM = SVM.fit(readcounts_train_X, pheno_train_y)\n",
    "svm_pred = SVM.predict(readcounts_test_X)\n",
    "print(\"PECC (accuracy):\", accuracy_score(pheno_test_y, svm_pred))"
   ]
  },
  {
   "cell_type": "markdown",
   "metadata": {},
   "source": [
    "#### KNeighborsClassifier"
   ]
  },
  {
   "cell_type": "code",
   "execution_count": 44,
   "metadata": {},
   "outputs": [
    {
     "name": "stdout",
     "output_type": "stream",
     "text": [
      "Perc. acertos:  0.9784580498866213\n"
     ]
    }
   ],
   "source": [
    "from sklearn.neighbors import KNeighborsClassifier\n",
    "knn = KNeighborsClassifier()\n",
    "knn.fit(readcounts_train_X, pheno_train_y)\n",
    "knn_pred = knn.predict(readcounts_test_X)\n",
    "print(\"Perc. acertos: \", (knn_pred == pheno_test_y).sum()/len(knn_pred))"
   ]
  },
  {
   "cell_type": "markdown",
   "metadata": {},
   "source": [
    "#### Decision Tree"
   ]
  },
  {
   "cell_type": "code",
   "execution_count": 45,
   "metadata": {},
   "outputs": [
    {
     "name": "stdout",
     "output_type": "stream",
     "text": [
      "Perc. acertos:  0.9359410430839002\n"
     ]
    }
   ],
   "source": [
    "from sklearn import tree\n",
    "\n",
    "tree_model = tree.DecisionTreeClassifier()\n",
    "tree_model = tree_model.fit(readcounts_train_X, pheno_train_y)\n",
    "preds_tree = tree_model.predict(readcounts_test_X)\n",
    "\n",
    "print(\"Perc. acertos: \", (preds_tree == pheno_test_y).sum()/len(preds_tree))"
   ]
  },
  {
   "cell_type": "markdown",
   "metadata": {},
   "source": [
    "### Ensembles\n",
    "#### Voting Classifier"
   ]
  },
  {
   "cell_type": "code",
   "execution_count": 46,
   "metadata": {},
   "outputs": [
    {
     "name": "stdout",
     "output_type": "stream",
     "text": [
      "0.9784580498866213\n"
     ]
    }
   ],
   "source": [
    "from sklearn.ensemble import VotingClassifier\n",
    "DTree = tree.DecisionTreeClassifier(max_depth=4)\n",
    "knn_class = KNeighborsClassifier(n_neighbors=7)\n",
    "svc = svm.SVC(gamma='scale', kernel='rbf', probability=True)\n",
    "eclf = VotingClassifier(estimators=[('dt', DTree), ('knn', knn_class), ('svc', svc)], voting='hard')\n",
    "\n",
    "eclf = eclf.fit(readcounts_train_X, pheno_train_y)\n",
    "print(eclf.score(readcounts_test_X, pheno_test_y))"
   ]
  }
 ],
 "metadata": {
  "kernelspec": {
   "display_name": "Python 3.10.2 64-bit",
   "language": "python",
   "name": "python3"
  },
  "language_info": {
   "codemirror_mode": {
    "name": "ipython",
    "version": 3
   },
   "file_extension": ".py",
   "mimetype": "text/x-python",
   "name": "python",
   "nbconvert_exporter": "python",
   "pygments_lexer": "ipython3",
   "version": "3.10.2"
  },
  "orig_nbformat": 4,
  "vscode": {
   "interpreter": {
    "hash": "c833dfc047c4516882787f5aa527e056a926718dafde6b3a550de5aeaac3c19a"
   }
  }
 },
 "nbformat": 4,
 "nbformat_minor": 2
}
