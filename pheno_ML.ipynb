{
 "cells": [
  {
   "cell_type": "code",
   "execution_count": 2,
   "metadata": {},
   "outputs": [],
   "source": [
    "import pandas as pd\n",
    "import numpy as np\n",
    "\n",
    "pheno_train = pd.read_csv(\"train/pheno_training.csv\")\n",
    "pheno_test = pd.read_csv(\"test/pheno_test.csv\")\n",
    "\n",
    "pheno_train = pheno_train.dropna()\n",
    "pheno_test = pheno_test.dropna()"
   ]
  },
  {
   "cell_type": "markdown",
   "metadata": {},
   "source": [
    "## Pré processamento para ML"
   ]
  },
  {
   "cell_type": "code",
   "execution_count": 3,
   "metadata": {},
   "outputs": [
    {
     "name": "stdout",
     "output_type": "stream",
     "text": [
      "Original dataset shape Counter({0: 3157, 1: 383})\n",
      "Resampled dataset shape Counter({0: 3157, 1: 3157})\n"
     ]
    }
   ],
   "source": [
    "var = [\"Event\", \"Event_time\"]\n",
    "pheno_train_y = pheno_train.PrevalentHFAIL + pheno_train.Event # data target with the patients that had HF before and after the first data collecting\n",
    "pheno_train_y = pheno_train_y.map({2: 1, 0: 0, 1: 1}) # make the variable boolean\n",
    "pheno_train_X = pheno_train.iloc[: , 1:] # Dropping the name of the patients\n",
    "pheno_train_X = pheno_train_X.drop(columns = [\"Event\", \"Event_time\", \"PrevalentHFAIL\"]) # dropping the variables that we want to predict and event_time doesnt make sense  \n",
    "pheno_test_y = pheno_test.PrevalentHFAIL + pheno_test.Event # data target with the patients that had HF before and after the first data collecting\n",
    "pheno_test_y = pheno_test_y.map({2: 1, 0: 0, 1: 1}) # make the variable boolean\n",
    "pheno_test_X = pheno_test.iloc[: , 1:] # Dropping the name of the patients\n",
    "pheno_test_X = pheno_test_X.drop(columns = [\"Event\", \"Event_time\", \"PrevalentHFAIL\"]) # dropping the variables that we want to predict and event_time doesnt make sense\n",
    "# SMOTE -> used for unbalanced data sets \n",
    "# Synthetic Minority Over-sampling Technique\n",
    "from collections import Counter\n",
    "print('Original dataset shape %s' % Counter(pheno_train_y))\n",
    "from imblearn.over_sampling import SMOTE\n",
    "sm = SMOTE(random_state=42)\n",
    "pheno_train_X, pheno_train_y = sm.fit_resample(pheno_train_X, pheno_train_y)\n",
    "print('Resampled dataset shape %s' % Counter(pheno_train_y))\n",
    "#pheno_test_X, pheno_test_y = sm.fit_resample(pheno_test_X, pheno_test_y)\n"
   ]
  },
  {
   "cell_type": "markdown",
   "metadata": {},
   "source": [
    "## Modelos de ML\n",
    "#### Logistic Regression"
   ]
  },
  {
   "cell_type": "code",
   "execution_count": 4,
   "metadata": {},
   "outputs": [
    {
     "name": "stdout",
     "output_type": "stream",
     "text": [
      "PECC (accuracy): 0.6252834467120182\n"
     ]
    },
    {
     "data": {
      "image/png": "[encoded data removed]",
      "text/plain": [
       "<Figure size 640x480 with 2 Axes>"
      ]
     },
     "metadata": {},
     "output_type": "display_data"
    }
   ],
   "source": [
    "from sklearn import linear_model\n",
    "from sklearn.metrics import accuracy_score\n",
    "from sklearn.metrics import confusion_matrix,ConfusionMatrixDisplay\n",
    "import matplotlib.pyplot as plt\n",
    "import seaborn as sns\n",
    "\n",
    "logistic = linear_model.LogisticRegression(C=1e5, solver = \"liblinear\", multi_class = \"auto\")\n",
    "logistic = logistic.fit(pheno_train_X, pheno_train_y)\n",
    "logistic_prev = logistic.predict(pheno_test_X)\n",
    "print(\"PECC (accuracy):\", accuracy_score(pheno_test_y, logistic_prev))\n",
    "\n",
    "cm_logreg = confusion_matrix(pheno_test_y, logistic_prev, labels=logistic.classes_)\n",
    "disp1 = ConfusionMatrixDisplay(confusion_matrix=cm_logreg, display_labels=logistic.classes_)\n",
    "disp1.plot()\n",
    "plt.show()"
   ]
  },
  {
   "cell_type": "markdown",
   "metadata": {},
   "source": [
    "#### Linear Regression"
   ]
  },
  {
   "cell_type": "code",
   "execution_count": 5,
   "metadata": {},
   "outputs": [
    {
     "name": "stdout",
     "output_type": "stream",
     "text": [
      "PECC (accuracy): 0.623015873015873\n"
     ]
    }
   ],
   "source": [
    "from sklearn import linear_model\n",
    "from sklearn.model_selection import cross_val_score\n",
    "\n",
    "regr_model = linear_model.LinearRegression()\n",
    "regr_model = regr_model.fit(pheno_train_X, pheno_train_y)\n",
    "regr_model_pred = regr_model.predict(pheno_test_X)\n",
    "\n",
    "regr_model_pred = np.round(regr_model_pred)\n",
    "\n",
    "print(\"PECC (accuracy):\", accuracy_score(pheno_test_y, regr_model_pred))"
   ]
  },
  {
   "cell_type": "markdown",
   "metadata": {},
   "source": [
    "#### Ridge\n"
   ]
  },
  {
   "cell_type": "code",
   "execution_count": 6,
   "metadata": {},
   "outputs": [
    {
     "name": "stdout",
     "output_type": "stream",
     "text": [
      "PECC (accuracy): 0.623015873015873\n"
     ]
    }
   ],
   "source": [
    "ridge = linear_model.Ridge(alpha=.1)\n",
    "ridge = ridge.fit(pheno_train_X, pheno_train_y)\n",
    "ridge_pred = ridge.predict(pheno_test_X)\n",
    "ridge_pred = np.round(ridge_pred)\n",
    "\n",
    "print(\"PECC (accuracy):\", accuracy_score(pheno_test_y, ridge_pred))"
   ]
  },
  {
   "cell_type": "markdown",
   "metadata": {},
   "source": [
    "Lasso"
   ]
  },
  {
   "cell_type": "code",
   "execution_count": 7,
   "metadata": {},
   "outputs": [
    {
     "name": "stdout",
     "output_type": "stream",
     "text": [
      "PECC (accuracy): 0.5396825396825397\n"
     ]
    }
   ],
   "source": [
    "lasso = linear_model.Lasso()\n",
    "lasso = lasso.fit(pheno_train_X, pheno_train_y)\n",
    "lasso_pred = lasso.predict(pheno_test_X)\n",
    "lasso_pred = np.round(lasso_pred)\n",
    "print(\"PECC (accuracy):\", accuracy_score(pheno_test_y, lasso_pred))\n"
   ]
  },
  {
   "cell_type": "markdown",
   "metadata": {},
   "source": [
    "#### SVM's"
   ]
  },
  {
   "cell_type": "code",
   "execution_count": 8,
   "metadata": {},
   "outputs": [
    {
     "name": "stdout",
     "output_type": "stream",
     "text": [
      "PECC (accuracy): 0.5617913832199547\n"
     ]
    }
   ],
   "source": [
    "from sklearn import svm\n",
    "from sklearn.model_selection import cross_val_score\n",
    "SVM = svm.SVC(gamma=0.001, C=100.)\n",
    "SVM = SVM.fit(pheno_train_X, pheno_train_y)\n",
    "svm_pred = SVM.predict(pheno_test_X)\n",
    "print(\"PECC (accuracy):\", accuracy_score(pheno_test_y, svm_pred))\n",
    "#cross_scores = cross_val_score(SVM, pheno_test_y, svm_pred, cv = 5)\n",
    "#print(cross_scores)\n"
   ]
  },
  {
   "cell_type": "markdown",
   "metadata": {},
   "source": [
    "#### KNeighborsClassifier"
   ]
  },
  {
   "cell_type": "code",
   "execution_count": 9,
   "metadata": {},
   "outputs": [
    {
     "name": "stdout",
     "output_type": "stream",
     "text": [
      "Perc. acertos:  0.6337868480725624\n"
     ]
    }
   ],
   "source": [
    "from sklearn.neighbors import KNeighborsClassifier\n",
    "knn = KNeighborsClassifier()\n",
    "knn.fit(pheno_train_X, pheno_train_y)\n",
    "knn_pred = knn.predict(pheno_test_X)\n",
    "print(\"Perc. acertos: \", (knn_pred == pheno_test_y).sum()/len(knn_pred))"
   ]
  },
  {
   "cell_type": "markdown",
   "metadata": {},
   "source": [
    "#### Decision Tree"
   ]
  },
  {
   "cell_type": "code",
   "execution_count": 10,
   "metadata": {},
   "outputs": [
    {
     "name": "stdout",
     "output_type": "stream",
     "text": [
      "Perc. acertos:  0.7488662131519275\n"
     ]
    },
    {
     "data": {
      "image/png": "[encoded data removed]",
      "text/plain": [
       "<Figure size 640x480 with 2 Axes>"
      ]
     },
     "metadata": {},
     "output_type": "display_data"
    }
   ],
   "source": [
    "from sklearn import tree\n",
    "from sklearn.metrics import f1_score\n",
    "\n",
    "tree_model = tree.DecisionTreeClassifier()\n",
    "tree_model = tree_model.fit(pheno_train_X, pheno_train_y)\n",
    "preds_tree = tree_model.predict(pheno_test_X)\n",
    "\n",
    "print(\"Perc. acertos: \", (preds_tree == pheno_test_y).sum()/len(preds_tree))\n",
    "\n",
    "cm_tree = confusion_matrix(pheno_test_y, preds_tree, labels=tree_model.classes_)\n",
    "disp_tree = ConfusionMatrixDisplay(confusion_matrix=cm_tree, display_labels=tree_model.classes_)\n",
    "disp_tree.plot()\n",
    "plt.show()"
   ]
  },
  {
   "cell_type": "markdown",
   "metadata": {},
   "source": [
    "## Ensembles\n",
    "#### Voting Classifier"
   ]
  },
  {
   "cell_type": "code",
   "execution_count": 11,
   "metadata": {},
   "outputs": [
    {
     "name": "stdout",
     "output_type": "stream",
     "text": [
      "0.6031746031746031\n"
     ]
    }
   ],
   "source": [
    "from sklearn.ensemble import VotingClassifier\n",
    "DTree = tree.DecisionTreeClassifier(max_depth=4)\n",
    "knn_class = KNeighborsClassifier(n_neighbors=7)\n",
    "svc = svm.SVC(gamma='scale', kernel='rbf', probability=True)\n",
    "eclf = VotingClassifier(estimators=[('dt', DTree), ('knn', knn_class), ('svc', svc)], voting='hard')\n",
    "\n",
    "eclf = eclf.fit(pheno_train_X, pheno_train_y)\n",
    "print(eclf.score(pheno_test_X, pheno_test_y))"
   ]
  },
  {
   "cell_type": "code",
   "execution_count": 13,
   "metadata": {},
   "outputs": [],
   "source": [
    "def report(results, n_top=3):\n",
    "    for i in range(1, n_top + 1):\n",
    "        candidates = np.flatnonzero(results['rank_test_score'] == i)\n",
    "        for candidate in candidates:\n",
    "            print(\"Model with rank: {0}\".format(i))\n",
    "            print(\"Mean validation score: {0:.3f} (std: {1:.3f})\".format(\n",
    "                  results['mean_test_score'][candidate],\n",
    "                  results['std_test_score'][candidate]))\n",
    "            print(\"Parameters: {0}\".format(results['params'][candidate]))\n",
    "            print(\"\")"
   ]
  },
  {
   "cell_type": "markdown",
   "metadata": {},
   "source": [
    "#### Random Forest Classifier"
   ]
  },
  {
   "cell_type": "code",
   "execution_count": 14,
   "metadata": {},
   "outputs": [
    {
     "name": "stdout",
     "output_type": "stream",
     "text": [
      "RandomForestClassifier(bootstrap=False, max_features=6, min_samples_leaf=2)\n",
      "Model with rank: 1\n",
      "Mean validation score: 0.882 (std: 0.055)\n",
      "Parameters: {'min_samples_split': 2, 'min_samples_leaf': 2, 'max_features': 6, 'max_depth': None, 'criterion': 'gini', 'bootstrap': False}\n",
      "\n",
      "Model with rank: 2\n",
      "Mean validation score: 0.867 (std: 0.058)\n",
      "Parameters: {'min_samples_split': 6, 'min_samples_leaf': 6, 'max_features': 6, 'max_depth': None, 'criterion': 'entropy', 'bootstrap': False}\n",
      "\n",
      "Model with rank: 3\n",
      "Mean validation score: 0.861 (std: 0.064)\n",
      "Parameters: {'min_samples_split': 4, 'min_samples_leaf': 4, 'max_features': 4, 'max_depth': None, 'criterion': 'gini', 'bootstrap': True}\n",
      "\n",
      "0.814625850340136\n"
     ]
    }
   ],
   "source": [
    "from sklearn.model_selection import RandomizedSearchCV\n",
    "from sklearn.ensemble import RandomForestClassifier\n",
    "\n",
    "rf_model = RandomForestClassifier(n_estimators=100)\n",
    "param_dist = {\"max_depth\": [2, 3, None], \"max_features\": [2,4,6], \"min_samples_split\": [2,4,6],\n",
    "              \"min_samples_leaf\": [2,4,6], \"bootstrap\": [True, False], \"criterion\": [\"gini\", \"entropy\"]}\n",
    "\n",
    "rand_search = RandomizedSearchCV(rf_model, param_distributions=param_dist, n_iter=20, cv = 5)\n",
    "rand_search =rand_search.fit(pheno_train_X, pheno_train_y)\n",
    "print (rand_search.best_estimator_)\n",
    "report(rand_search.cv_results_)\n",
    "print(rand_search.score(pheno_test_X, pheno_test_y))"
   ]
  },
  {
   "cell_type": "markdown",
   "metadata": {},
   "source": [
    "#### SVM Random Search"
   ]
  },
  {
   "cell_type": "code",
   "execution_count": 15,
   "metadata": {},
   "outputs": [
    {
     "name": "stdout",
     "output_type": "stream",
     "text": [
      "SVC(C=10, gamma=0.1)\n",
      "Model with rank: 1\n",
      "Mean validation score: 0.900 (std: 0.008)\n",
      "Parameters: {'kernel': 'rbf', 'gamma': 0.1, 'C': 10}\n",
      "\n",
      "Model with rank: 2\n",
      "Mean validation score: 0.894 (std: 0.011)\n",
      "Parameters: {'kernel': 'rbf', 'gamma': 0.05, 'C': 10}\n",
      "\n",
      "Model with rank: 3\n",
      "Mean validation score: 0.891 (std: 0.006)\n",
      "Parameters: {'kernel': 'rbf', 'gamma': 0.05, 'C': 1000}\n",
      "\n",
      "0.7845804988662132\n"
     ]
    }
   ],
   "source": [
    "parameters = {'kernel':('linear', 'rbf'), 'C':[0.1, 0.5, 1, 3, 10, 30, 100, 1000], 'gamma':[0.1, 0.01, 0.05, 0.001]}\n",
    "svm_model_d = svm.SVC()\n",
    "rand_search = RandomizedSearchCV(svm_model_d, param_distributions=parameters, n_iter=20, cv = 5)\n",
    "\n",
    "rand_search.fit(pheno_train_X, pheno_train_y)\n",
    "\n",
    "print (rand_search.best_estimator_)\n",
    "report(rand_search.cv_results_)\n",
    "print(rand_search.score(pheno_test_X, pheno_test_y))\n",
    "# Demorou 31 min a correr\n"
   ]
  }
 ],
 "metadata": {
  "kernelspec": {
   "display_name": "Python 3.10.6 64-bit",
   "language": "python",
   "name": "python3"
  },
  "language_info": {
   "codemirror_mode": {
    "name": "ipython",
    "version": 3
   },
   "file_extension": ".py",
   "mimetype": "text/x-python",
   "name": "python",
   "nbconvert_exporter": "python",
   "pygments_lexer": "ipython3",
   "version": "3.10.6"
  },
  "orig_nbformat": 4,
  "vscode": {
   "interpreter": {
    "hash": "916dbcbb3f70747c44a77c7bcd40155683ae19c65e1c03b4aa3499c5328201f1"
   }
  }
 },
 "nbformat": 4,
 "nbformat_minor": 2
}
