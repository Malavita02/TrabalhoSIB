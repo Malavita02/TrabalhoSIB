{
 "cells": [
  {
   "cell_type": "code",
   "execution_count": 1,
   "metadata": {},
   "outputs": [],
   "source": [
    "import pandas as pd\n",
    "import numpy as np\n",
    "\n",
    "pheno_train = pd.read_csv(\"train/pheno_training.csv\")\n",
    "pheno_test = pd.read_csv(\"test/pheno_test.csv\")\n",
    "\n",
    "pheno_train = pheno_train.dropna()\n",
    "pheno_test = pheno_test.dropna()"
   ]
  },
  {
   "cell_type": "markdown",
   "metadata": {},
   "source": [
    "## Pré processamento para ML"
   ]
  },
  {
   "cell_type": "code",
   "execution_count": 2,
   "metadata": {},
   "outputs": [],
   "source": [
    "var = [\"Event\", \"Event_time\"]\n",
    "pheno_train_y = pheno_train.PrevalentHFAIL + pheno_train.Event\n",
    "pheno_train_y = pheno_train_y.map({2: 1, 0: 0, 1:1})\n",
    "pheno_train_X = pheno_train.iloc[: , 1:]\n",
    "pheno_train_X = pheno_train_X.drop(columns = [\"Event\", \"Event_time\", \"PrevalentHFAIL\"])\n",
    "pheno_test_y = pheno_test.PrevalentHFAIL + pheno_test.Event\n",
    "pheno_test_y = pheno_test_y.map({2: 1, 0: 0, 1:1})\n",
    "pheno_test_X = pheno_test.iloc[: , 1:]\n",
    "pheno_test_X = pheno_test_X.drop(columns = [\"Event\", \"Event_time\", \"PrevalentHFAIL\"])\n",
    "# minority class oversampling\n",
    "# majority class oversampling\n",
    "# SMOTE - fazer isto\n"
   ]
  },
  {
   "cell_type": "markdown",
   "metadata": {},
   "source": [
    "## Modelos de ML\n",
    "#### Logistic Regression"
   ]
  },
  {
   "cell_type": "code",
   "execution_count": 3,
   "metadata": {},
   "outputs": [
    {
     "name": "stdout",
     "output_type": "stream",
     "text": [
      "PECC (accuracy): 0.8996598639455783\n"
     ]
    }
   ],
   "source": [
    "from sklearn import linear_model\n",
    "from sklearn.metrics import accuracy_score\n",
    "\n",
    "logistic = linear_model.LogisticRegression(C=1e5, solver = \"liblinear\", multi_class = \"auto\")\n",
    "logistic = logistic.fit(pheno_train_X, pheno_train_y)\n",
    "logistic_prev = logistic.predict(pheno_test_X)\n",
    "# print(logistic_prev[:, 1])\n",
    "print(\"PECC (accuracy):\", accuracy_score(pheno_test_y, logistic_prev))"
   ]
  },
  {
   "cell_type": "markdown",
   "metadata": {},
   "source": [
    "#### Linear Regression"
   ]
  },
  {
   "cell_type": "code",
   "execution_count": 4,
   "metadata": {},
   "outputs": [
    {
     "name": "stdout",
     "output_type": "stream",
     "text": [
      "[0. 0. 0. ... 0. 0. 0.]\n",
      "PECC (accuracy): 0.8996598639455783\n",
      "Não funciona com boleans\n"
     ]
    }
   ],
   "source": [
    "from sklearn import linear_model\n",
    "from sklearn.model_selection import cross_val_score\n",
    "\n",
    "regr_model = linear_model.LinearRegression()\n",
    "regr_model = regr_model.fit(pheno_train_X, pheno_train_y)\n",
    "regr_model_pred = regr_model.predict(pheno_test_X)\n",
    "\n",
    "print(np.round(regr_model_pred))\n",
    "\n",
    "print(\"PECC (accuracy):\", accuracy_score(pheno_test_y, np.round(regr_model_pred)))"
   ]
  },
  {
   "cell_type": "markdown",
   "metadata": {},
   "source": [
    "#### Ridge\n"
   ]
  },
  {
   "cell_type": "code",
   "execution_count": 5,
   "metadata": {},
   "outputs": [
    {
     "name": "stdout",
     "output_type": "stream",
     "text": [
      "[0.16109482 0.09168673 0.09852674 ... 0.14771956 0.04503045 0.14831603]\n",
      "Não funciona com boleans\n"
     ]
    }
   ],
   "source": [
    "ridge = linear_model.Ridge(alpha=.1)\n",
    "ridge = ridge.fit(pheno_train_X, pheno_train_y)\n",
    "ridge_pred = ridge.predict(pheno_test_X)\n",
    "\n",
    "print(ridge_pred)\n",
    "#print(\"PECC (accuracy):\", accuracy_score(pheno_test_y, ridge_pred))"
   ]
  },
  {
   "cell_type": "markdown",
   "metadata": {},
   "source": [
    "Lasso"
   ]
  },
  {
   "cell_type": "code",
   "execution_count": 6,
   "metadata": {},
   "outputs": [
    {
     "name": "stdout",
     "output_type": "stream",
     "text": [
      "[0.10819209 0.10819209 0.10819209 ... 0.10819209 0.10819209 0.10819209]\n",
      "Não funciona com boleans\n"
     ]
    }
   ],
   "source": [
    "lasso = linear_model.Lasso()\n",
    "lasso = lasso.fit(pheno_train_X, pheno_train_y)\n",
    "lasso_pred = lasso.predict(pheno_test_X)\n",
    "print(lasso_pred)\n",
    "#print(\"PECC (accuracy):\", accuracy_score(pheno_test_y, lasso_pred))"
   ]
  },
  {
   "cell_type": "markdown",
   "metadata": {},
   "source": [
    "#### SVM's"
   ]
  },
  {
   "cell_type": "code",
   "execution_count": 7,
   "metadata": {},
   "outputs": [
    {
     "name": "stdout",
     "output_type": "stream",
     "text": [
      "PECC (accuracy): 0.8996598639455783\n"
     ]
    }
   ],
   "source": [
    "from sklearn import svm\n",
    "from sklearn.model_selection import cross_val_score\n",
    "SVM = svm.SVC(gamma=0.001, C=100.)\n",
    "SVM = SVM.fit(pheno_train_X, pheno_train_y)\n",
    "svm_pred = SVM.predict(pheno_test_X)\n",
    "print(\"PECC (accuracy):\", accuracy_score(pheno_test_y, svm_pred))\n",
    "#cross_scores = cross_val_score(SVM, pheno_test_y, svm_pred, cv = 5)\n",
    "#print(cross_scores)\n"
   ]
  },
  {
   "cell_type": "markdown",
   "metadata": {},
   "source": [
    "#### KNeighborsClassifier"
   ]
  },
  {
   "cell_type": "code",
   "execution_count": 8,
   "metadata": {},
   "outputs": [
    {
     "name": "stdout",
     "output_type": "stream",
     "text": [
      "Perc. acertos:  0.8956916099773242\n"
     ]
    }
   ],
   "source": [
    "from sklearn.neighbors import KNeighborsClassifier\n",
    "knn = KNeighborsClassifier()\n",
    "knn.fit(pheno_train_X, pheno_train_y)\n",
    "knn_pred = knn.predict(pheno_test_X)\n",
    "print(\"Perc. acertos: \", (knn_pred == pheno_test_y).sum()/len(knn_pred))"
   ]
  },
  {
   "cell_type": "markdown",
   "metadata": {},
   "source": [
    "#### Decision Tree"
   ]
  },
  {
   "cell_type": "code",
   "execution_count": 9,
   "metadata": {},
   "outputs": [
    {
     "name": "stdout",
     "output_type": "stream",
     "text": [
      "Perc. acertos:  0.8010204081632653\n"
     ]
    }
   ],
   "source": [
    "from sklearn import tree\n",
    "from sklearn.metrics import f1_score\n",
    "\n",
    "tree_model = tree.DecisionTreeClassifier()\n",
    "tree_model = tree_model.fit(pheno_train_X, pheno_train_y)\n",
    "preds_tree = tree_model.predict(pheno_test_X)\n",
    "\n",
    "print(\"Perc. acertos: \", (preds_tree == pheno_test_y).sum()/len(preds_tree))\n"
   ]
  },
  {
   "cell_type": "markdown",
   "metadata": {},
   "source": [
    "## Ensembles\n",
    "#### Voting Classifier"
   ]
  },
  {
   "cell_type": "code",
   "execution_count": 10,
   "metadata": {},
   "outputs": [
    {
     "name": "stdout",
     "output_type": "stream",
     "text": [
      "0.8996598639455783\n"
     ]
    }
   ],
   "source": [
    "from sklearn.ensemble import VotingClassifier\n",
    "DTree = tree.DecisionTreeClassifier(max_depth=4)\n",
    "knn_class = KNeighborsClassifier(n_neighbors=7)\n",
    "svc = svm.SVC(gamma='scale', kernel='rbf', probability=True)\n",
    "eclf = VotingClassifier(estimators=[('dt', DTree), ('knn', knn_class), ('svc', svc)], voting='hard')\n",
    "\n",
    "eclf = eclf.fit(pheno_train_X, pheno_train_y)\n",
    "print(eclf.score(pheno_test_X, pheno_test_y))"
   ]
  }
 ],
 "metadata": {
  "kernelspec": {
   "display_name": "Python 3 (ipykernel)",
   "language": "python",
   "name": "python3"
  },
  "language_info": {
   "codemirror_mode": {
    "name": "ipython",
    "version": 3
   },
   "file_extension": ".py",
   "mimetype": "text/x-python",
   "name": "python",
   "nbconvert_exporter": "python",
   "pygments_lexer": "ipython3",
   "version": "3.10.6"
  },
  "vscode": {
   "interpreter": {
    "hash": "c833dfc047c4516882787f5aa527e056a926718dafde6b3a550de5aeaac3c19a"
   }
  }
 },
 "nbformat": 4,
 "nbformat_minor": 4
}
