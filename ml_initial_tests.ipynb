{
 "cells": [
  {
   "cell_type": "code",
   "execution_count": 1,
   "metadata": {},
   "outputs": [],
   "source": [
    "import numpy as np\n",
    "import pandas as pd\n",
    "\n",
    "pheno_train = pd.read_csv(\"train/pheno_training.csv\")\n",
    "readcounts_train = pd.read_csv(\"train/readcounts_training.csv\")\n",
    "taxtable_train = pd.read_csv(\"train/taxtable.csv\")\n",
    "\n",
    "pheno_test = pd.read_csv(\"test/pheno_test.csv\")\n",
    "readcounts_test = pd.read_csv(\"test/readcounts_test.csv\")\n",
    "taxtable_test = pd.read_csv(\"test/taxtable.csv\")\n",
    "\n",
    "pheno_train = pheno_train.dropna()\n",
    "pheno_test = pheno_test.dropna()"
   ]
  },
  {
   "cell_type": "markdown",
   "metadata": {},
   "source": [
    "## Pré processamento para ML"
   ]
  },
  {
   "cell_type": "code",
   "execution_count": 2,
   "metadata": {},
   "outputs": [],
   "source": [
    "pheno_train_y = pheno_train.PrevalentHFAIL\n",
    "pheno_train_X = pheno_train.iloc[: , 1:]\n",
    "pheno_train_X = pheno_train_X.loc[:, pheno_train_X.columns != \"PrevalentHFAIL\"]\n",
    "pheno_test_y = pheno_test.PrevalentHFAIL\n",
    "pheno_test_X = pheno_test.iloc[: , 1:]\n",
    "pheno_test_X = pheno_test_X.loc[:, pheno_test_X.columns != \"PrevalentHFAIL\"]\n"
   ]
  },
  {
   "cell_type": "markdown",
   "metadata": {},
   "source": [
    "## Modelos de ML\n",
    "#### Logistic Regression"
   ]
  },
  {
   "cell_type": "code",
   "execution_count": 3,
   "metadata": {},
   "outputs": [
    {
     "name": "stdout",
     "output_type": "stream",
     "text": [
      "PECC (accuracy): 1.0\n"
     ]
    }
   ],
   "source": [
    "from sklearn import linear_model\n",
    "from sklearn.metrics import accuracy_score\n",
    "\n",
    "logistic = linear_model.LogisticRegression(C=1e5, solver = \"liblinear\", multi_class = \"auto\")\n",
    "logistic = logistic.fit(pheno_train_X, pheno_train_y)\n",
    "logistic_prev = logistic.predict(pheno_test_X)\n",
    "\n",
    "print(\"PECC (accuracy):\", accuracy_score(pheno_test_y, logistic_prev))"
   ]
  },
  {
   "cell_type": "markdown",
   "metadata": {},
   "source": [
    "#### Linear Regression"
   ]
  },
  {
   "cell_type": "code",
   "execution_count": 4,
   "metadata": {},
   "outputs": [
    {
     "name": "stdout",
     "output_type": "stream",
     "text": [
      "[-0.05287802  0.08292254 -0.03657902 ...  0.24002286  0.00915692\n",
      " -0.03806369]\n",
      "Não funciona com boleans\n"
     ]
    }
   ],
   "source": [
    "from sklearn import linear_model\n",
    "from sklearn.model_selection import cross_val_score\n",
    "\n",
    "regr_model = linear_model.LinearRegression()\n",
    "regr_model = regr_model.fit(pheno_train_X, pheno_train_y)\n",
    "regr_model_pred = regr_model.predict(pheno_test_X)\n",
    "\n",
    "print(regr_model_pred)\n",
    "\n",
    "#print(\"PECC (accuracy):\", accuracy_score(pheno_test_y, regr_model_pred))\n",
    "print(\"Não funciona com boleans\")"
   ]
  },
  {
   "cell_type": "markdown",
   "metadata": {},
   "source": [
    "#### Ridge\n"
   ]
  },
  {
   "cell_type": "code",
   "execution_count": 5,
   "metadata": {},
   "outputs": [
    {
     "name": "stdout",
     "output_type": "stream",
     "text": [
      "[-0.0528788   0.0829221  -0.03657104 ...  0.24002048  0.00915614\n",
      " -0.03806499]\n",
      "Não funciona com boleans\n"
     ]
    }
   ],
   "source": [
    "ridge = linear_model.Ridge(alpha=.1)\n",
    "ridge = ridge.fit(pheno_train_X, pheno_train_y)\n",
    "ridge_pred = ridge.predict(pheno_test_X)\n",
    "\n",
    "print(ridge_pred)\n",
    "#print(\"PECC (accuracy):\", accuracy_score(pheno_test_y, ridge_pred))\n",
    "print(\"Não funciona com boleans\")"
   ]
  },
  {
   "cell_type": "markdown",
   "metadata": {},
   "source": [
    "Lasso"
   ]
  },
  {
   "cell_type": "code",
   "execution_count": 13,
   "metadata": {},
   "outputs": [
    {
     "name": "stdout",
     "output_type": "stream",
     "text": [
      "[0.0259887 0.0259887 0.0259887 ... 0.0259887 0.0259887 0.0259887]\n",
      "Perc. acertos:  0.0\n",
      "Não funciona com boleans\n"
     ]
    }
   ],
   "source": [
    "lasso = linear_model.Lasso()\n",
    "lasso = lasso.fit(pheno_train_X, pheno_train_y)\n",
    "lasso_pred = lasso.predict(pheno_test_X)\n",
    "print(lasso_pred)\n",
    "#print(\"PECC (accuracy):\", accuracy_score(pheno_test_y, lasso_pred))\n",
    "print(\"Não funciona com boleans\")"
   ]
  },
  {
   "cell_type": "markdown",
   "metadata": {},
   "source": [
    "#### SVM's"
   ]
  },
  {
   "cell_type": "code",
   "execution_count": 15,
   "metadata": {},
   "outputs": [
    {
     "name": "stdout",
     "output_type": "stream",
     "text": [
      "PECC (accuracy): 1.0\n"
     ]
    }
   ],
   "source": [
    "from sklearn import svm\n",
    "from sklearn.model_selection import cross_val_score\n",
    "SVM = svm.SVC(gamma=0.001, C=100.)\n",
    "SVM = SVM.fit(pheno_train_X, pheno_train_y)\n",
    "svm_pred = SVM.predict(pheno_test_X)\n",
    "print(\"PECC (accuracy):\", accuracy_score(pheno_test_y, svm_pred))\n",
    "#cross_scores = cross_val_score(SVM, pheno_test_y, svm_pred, cv = 5)\n",
    "#print(cross_scores)\n"
   ]
  },
  {
   "cell_type": "markdown",
   "metadata": {},
   "source": [
    "#### KNeighborsClassifeir"
   ]
  },
  {
   "cell_type": "code",
   "execution_count": 9,
   "metadata": {},
   "outputs": [
    {
     "name": "stdout",
     "output_type": "stream",
     "text": [
      "Perc. acertos:  0.9971655328798186\n"
     ]
    }
   ],
   "source": [
    "from sklearn.neighbors import KNeighborsClassifier\n",
    "knn = KNeighborsClassifier()\n",
    "knn.fit(pheno_train_X, pheno_train_y)\n",
    "knn_pred = knn.predict(pheno_test_X)\n",
    "print(\"Perc. acertos: \", (knn_pred == pheno_test_y).sum()/len(knn_pred))"
   ]
  },
  {
   "cell_type": "markdown",
   "metadata": {},
   "source": [
    "#### Decision Tree"
   ]
  },
  {
   "cell_type": "code",
   "execution_count": 14,
   "metadata": {},
   "outputs": [
    {
     "name": "stdout",
     "output_type": "stream",
     "text": [
      "Perc. acertos:  1.0\n"
     ]
    }
   ],
   "source": [
    "from sklearn import tree\n",
    "from sklearn.metrics import f1_score\n",
    "\n",
    "tree_model = tree.DecisionTreeClassifier()\n",
    "tree_model = tree_model.fit(pheno_train_X, pheno_train_y)\n",
    "preds_tree = tree_model.predict(pheno_test_X)\n",
    "\n",
    "print(\"Perc. acertos: \", (preds_tree == pheno_test_y).sum()/len(preds_tree))\n"
   ]
  },
  {
   "cell_type": "markdown",
   "metadata": {},
   "source": [
    "## Ensembles\n",
    "#### Voting Classifier"
   ]
  },
  {
   "cell_type": "code",
   "execution_count": 17,
   "metadata": {},
   "outputs": [
    {
     "name": "stdout",
     "output_type": "stream",
     "text": [
      "0.9965986394557823\n"
     ]
    }
   ],
   "source": [
    "from sklearn.ensemble import VotingClassifier\n",
    "DTree = tree.DecisionTreeClassifier(max_depth=4)\n",
    "knn_class = KNeighborsClassifier(n_neighbors=7)\n",
    "svc = svm.SVC(gamma='scale', kernel='rbf', probability=True)\n",
    "eclf = VotingClassifier(estimators=[('dt', DTree), ('knn', knn_class), ('svc', svc)], voting='hard')\n",
    "\n",
    "eclf = eclf.fit(pheno_train_X, pheno_train_y)\n",
    "print(eclf.score(pheno_test_X, pheno_test_y))"
   ]
  }
 ],
 "metadata": {
  "kernelspec": {
   "display_name": "Python 3.10.6 64-bit",
   "language": "python",
   "name": "python3"
  },
  "language_info": {
   "codemirror_mode": {
    "name": "ipython",
    "version": 3
   },
   "file_extension": ".py",
   "mimetype": "text/x-python",
   "name": "python",
   "nbconvert_exporter": "python",
   "pygments_lexer": "ipython3",
   "version": "3.10.6"
  },
  "orig_nbformat": 4,
  "vscode": {
   "interpreter": {
    "hash": "916dbcbb3f70747c44a77c7bcd40155683ae19c65e1c03b4aa3499c5328201f1"
   }
  }
 },
 "nbformat": 4,
 "nbformat_minor": 2
}
